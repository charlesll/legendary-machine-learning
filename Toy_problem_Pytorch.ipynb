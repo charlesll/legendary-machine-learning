{
 "cells": [
  {
   "cell_type": "markdown",
   "metadata": {},
   "source": [
    "# Toy problem : some kind of simple differentiable programming with Pytorch\n",
    "\n",
    "Author: Charles Le Losq, Australian National University, 2019.\n",
    "\n",
    "In this problem, we want a neural network to predict the parameter of a function that allows calculation of the $y$ observations.\n",
    "\n",
    "We will use Torch in Python to approach this problem in this notebook.\n",
    "\n",
    "See also the version using Julia + Flux.jl for a side to side comparison."
   ]
  },
  {
   "cell_type": "code",
   "execution_count": 24,
   "metadata": {},
   "outputs": [],
   "source": [
    "# Library loading\n",
    "%matplotlib inline\n",
    "\n",
    "import pandas as pd # manipulate dataframes\n",
    "import matplotlib.pyplot as plt # plotting\n",
    "import matplotlib\n",
    "import numpy as np\n",
    "import torch, time\n",
    "\n",
    "from sklearn.metrics import mean_squared_error\n",
    "\n",
    "#np.random.seed(42) # fixing random seed"
   ]
  },
  {
   "cell_type": "markdown",
   "metadata": {},
   "source": [
    "# The problem\n",
    "\n",
    "$y$ depends on $x1$ and $x2$ via the equation\n",
    "\n",
    "$y = A + \\frac{B}{x2} + C\\times cos(x2./D)$   eq. 1\n",
    "\n",
    "with $A$, $B$ $C$, and $D = f(x1)$ and $f$ unknown. Here we will generate a toy dataset with a simple $f$ and $x1$ with 1 feature, but in reality $f$ is a stronly non-linear function and inputs $x1$ have multiple features."
   ]
  },
  {
   "cell_type": "code",
   "execution_count": 26,
   "metadata": {},
   "outputs": [
    {
     "name": "stdout",
     "output_type": "stream",
     "text": [
      "Dataset size is (30000, 1)\n"
     ]
    },
    {
     "name": "stderr",
     "output_type": "stream",
     "text": [
      "/home/charles/miniconda3/envs/py36/lib/python3.6/site-packages/ipykernel_launcher.py:12: DeprecationWarning: Numeric-style type codes are deprecated and will result in an error in the future.\n",
      "  if sys.path[0] == '':\n"
     ]
    },
    {
     "data": {
      "image/png": "[encoded data removed]",
      "text/plain": [
       "<Figure size 432x288 with 1 Axes>"
      ]
     },
     "metadata": {},
     "output_type": "display_data"
    }
   ],
   "source": [
    "def model(x2,A,B,C,D): # this is eq. 1\n",
    "    return A + B/x2 + C*np.cos(x2/D)\n",
    "\n",
    "# here we assume we know how A, B and C vary with x1\n",
    "def fake_eq0(x1):\n",
    "    A = -3.0 # constant\n",
    "    B = 40000.0*0.1*x1\n",
    "    C = np.abs(0.5 - x1*10.)\n",
    "    D = 10.0\n",
    "    return A, B, C, D\n",
    "\n",
    "x1 = np.around(np.arange(0.4,1.0,0.01,dtype='Float64'),2)\n",
    "x2 = np.arange(500.0,1000.0,1.0)\n",
    "\n",
    "A_fake, B_fake, C_fake, D_fake = fake_eq0(x1)\n",
    "\n",
    "# we buyild our training set\n",
    "for i in range(0,len(B_fake)):\n",
    "    if i == 0:\n",
    "        X1_training = np.ones(len(x2))*x1[i]\n",
    "        X2_training = x2\n",
    "        y_training = model(x2,A_fake,B_fake[i],C_fake[i],D_fake)\n",
    "    else:\n",
    "        X1_training = np.hstack((X1_training,np.ones(len(x2))*x1[i]))\n",
    "        X2_training = np.hstack((X2_training,x2))\n",
    "        y_training = np.hstack((y_training,model(x2,A_fake,B_fake[i],C_fake[i],D_fake)))\n",
    "\n",
    "X1_training = X1_training.reshape(-1,1)        \n",
    "X2_training = X2_training.reshape(-1,1)        \n",
    "y_training = y_training.reshape(-1,1)        \n",
    "\n",
    "plt.plot(x2,y_training[X1_training==0.8]) # for one x1, we have a nice variation described by eq.1\n",
    "\n",
    "print(\"Dataset size is\", X1_training.shape)"
   ]
  },
  {
   "cell_type": "markdown",
   "metadata": {},
   "source": [
    "# Solving the problem: \n",
    "\n",
    "Combine neural net to predict B and C, we also know that A and D are constant so we solve them at the same time, and then use this in eq .1 to predict our observations."
   ]
  },
  {
   "cell_type": "code",
   "execution_count": 27,
   "metadata": {},
   "outputs": [],
   "source": [
    "class Feedforward(torch.nn.Module):\n",
    "    def __init__(self, input_size, hidden_size):\n",
    "        super(Feedforward, self).__init__()\n",
    "        self.input_size = input_size\n",
    "        self.hidden_size  = hidden_size\n",
    "        self.relu = torch.nn.ReLU()\n",
    "\n",
    "        self.fc1 = torch.nn.Linear(self.input_size, self.hidden_size)        \n",
    "        self.fc2 = torch.nn.Linear(self.hidden_size, self.hidden_size)\n",
    "        self.out = torch.nn.Linear(self.hidden_size, 2)\n",
    "\n",
    "        # now declaring variables for A and D\n",
    "        self.A = torch.nn.Parameter(data=torch.tensor([-1.0]))\n",
    "        self.D = torch.nn.Parameter(data=torch.tensor([-1.0]))\n",
    "    \n",
    "    def eq1(self,x2): # this is eq. 1\n",
    "        return self.A + self.B/x2 + self.C*torch.cos(x2/self.D)\n",
    "    \n",
    "    def output_bias_init(self):\n",
    "        self.out.bias = torch.nn.Parameter(data=torch.tensor([np.log(1000.),np.log(10.)]))\n",
    "    \n",
    "    def forward(self, x1, x2):\n",
    "        hidden1 = self.fc1(x1)\n",
    "        relu1 = self.relu(hidden1)\n",
    "        hidden2 = self.fc2(relu1)\n",
    "        relu2 = self.relu(hidden2)\n",
    "        output = self.out(relu2)\n",
    "        \n",
    "        # extract parameters from network\n",
    "        self.B = torch.exp(output[:,0])\n",
    "        self.C = torch.exp(output[:,1])\n",
    "        \n",
    "        # need to reshape things\n",
    "        self.B = torch.reshape(self.B, (self.B.shape[0], 1))\n",
    "        self.C = torch.reshape(self.C, (self.C.shape[0], 1))\n",
    "        \n",
    "        return self.eq1(x2)\n",
    "\n",
    "# put our data in Torch objects\n",
    "x1_train = torch.FloatTensor(X1_training)\n",
    "x2_train = torch.FloatTensor(X2_training)\n",
    "y_train = torch.FloatTensor(y_training)\n",
    "\n",
    "# create network\n",
    "nb_neurons = 100\n",
    "neuralmodel = Feedforward(1,nb_neurons)"
   ]
  },
  {
   "cell_type": "code",
   "execution_count": 28,
   "metadata": {},
   "outputs": [
    {
     "name": "stdout",
     "output_type": "stream",
     "text": [
      "Test loss before training 74.8465805053711\n"
     ]
    }
   ],
   "source": [
    "# criterion for match\n",
    "criterion = torch.nn.MSELoss()\n",
    "optimizer = torch.optim.Adam(neuralmodel.parameters(), lr = 0.001) # optimizer\n",
    "\n",
    "# we initialize the output bias\n",
    "neuralmodel.output_bias_init()\n",
    "\n",
    "# To see how the model is improving, \n",
    "# we can check the test loss before the model training and compare it with the test loss after the training.\n",
    "neuralmodel.eval()\n",
    "y_pred = neuralmodel(x1_train, x2_train)\n",
    "before_train = criterion(y_pred, y_train)\n",
    "print('Test loss before training' , before_train.item())"
   ]
  },
  {
   "cell_type": "code",
   "execution_count": 29,
   "metadata": {},
   "outputs": [
    {
     "name": "stdout",
     "output_type": "stream",
     "text": [
      "Running time in seconds: 4.655728340148926\n"
     ]
    }
   ],
   "source": [
    "time1 = time.time()\n",
    "neuralmodel.train()\n",
    "epoch = 100\n",
    "record_loss = np.zeros(epoch)\n",
    "\n",
    "for epoch in range(epoch):\n",
    "\n",
    "    optimizer.zero_grad()\n",
    "\n",
    "    # Forward pass\n",
    "    y_pred = neuralmodel(x1_train, x2_train)\n",
    "\n",
    "    # Compute Loss\n",
    "    loss = criterion(y_pred, y_train)\n",
    "    record_loss[epoch] = loss\n",
    "   \n",
    "    #print('Epoch {}: train loss: {}'.format(epoch, loss.item()))\n",
    "    # Backward pass\n",
    "    loss.backward()\n",
    "    optimizer.step()\n",
    "    \n",
    "time2 = time.time()\n",
    "\n",
    "print(\"Running time in seconds:\", time2-time1)"
   ]
  },
  {
   "cell_type": "code",
   "execution_count": 30,
   "metadata": {},
   "outputs": [
    {
     "name": "stderr",
     "output_type": "stream",
     "text": [
      "/home/charles/miniconda3/envs/py36/lib/python3.6/site-packages/torch/nn/modules/loss.py:443: UserWarning: Using a target size (torch.Size([30000, 1])) that is different to the input size (torch.Size([30000])). This will likely lead to incorrect results due to broadcasting. Please ensure they have the same size.\n",
      "  return F.mse_loss(input, target, reduction=self.reduction)\n"
     ]
    },
    {
     "name": "stdout",
     "output_type": "stream",
     "text": [
      "Test loss after Training 24.605274200439453\n"
     ]
    }
   ],
   "source": [
    "neuralmodel.eval()\n",
    "y_pred = neuralmodel(x1_train, x2_train)\n",
    "after_train = criterion(y_pred.squeeze(), y_train) \n",
    "print('Test loss after Training' , after_train.item())"
   ]
  },
  {
   "cell_type": "code",
   "execution_count": 31,
   "metadata": {},
   "outputs": [
    {
     "data": {
      "text/plain": [
       "[<matplotlib.lines.Line2D at 0x7ff40c53b2b0>]"
      ]
     },
     "execution_count": 31,
     "metadata": {},
     "output_type": "execute_result"
    },
    {
     "data": {
      "image/png": "[encoded data removed]",
      "text/plain": [
       "<Figure size 432x288 with 1 Axes>"
      ]
     },
     "metadata": {},
     "output_type": "display_data"
    }
   ],
   "source": [
    "plt.plot(record_loss)"
   ]
  },
  {
   "cell_type": "code",
   "execution_count": 32,
   "metadata": {},
   "outputs": [
    {
     "data": {
      "text/plain": [
       "<matplotlib.collections.PathCollection at 0x7ff40c48bba8>"
      ]
     },
     "execution_count": 32,
     "metadata": {},
     "output_type": "execute_result"
    },
    {
     "data": {
      "image/png": "[encoded data removed]",
      "text/plain": [
       "<Figure size 432x288 with 1 Axes>"
      ]
     },
     "metadata": {},
     "output_type": "display_data"
    }
   ],
   "source": [
    "plt.scatter(y_train,y_pred.detach().numpy())#,xlabel=\"Measurements\", ylabel=\"Predictions\")"
   ]
  },
  {
   "cell_type": "code",
   "execution_count": null,
   "metadata": {},
   "outputs": [],
   "source": []
  }
 ],
 "metadata": {
  "@webio": {
   "lastCommId": null,
   "lastKernelId": null
  },
  "kernelspec": {
   "display_name": "Python 3",
   "language": "python",
   "name": "python3"
  },
  "language_info": {
   "codemirror_mode": {
    "name": "ipython",
    "version": 3
   },
   "file_extension": ".py",
   "mimetype": "text/x-python",
   "name": "python",
   "nbconvert_exporter": "python",
   "pygments_lexer": "ipython3",
   "version": "3.6.7"
  }
 },
 "nbformat": 4,
 "nbformat_minor": 2
}
